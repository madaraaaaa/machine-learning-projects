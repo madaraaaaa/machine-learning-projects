{
 "cells": [
  {
   "cell_type": "code",
   "execution_count": 1,
   "id": "a7c62b31-afdc-4dae-891c-79fc6870893f",
   "metadata": {},
   "outputs": [],
   "source": [
    "import pickle\n",
    "\n"
   ]
  },
  {
   "cell_type": "code",
   "execution_count": 2,
   "id": "a9f15767-b96b-4c50-a99b-252b0bf2e033",
   "metadata": {},
   "outputs": [],
   "source": [
    "out_file='model_C=1.0.bin'"
   ]
  },
  {
   "cell_type": "code",
   "execution_count": 7,
   "id": "56fd84f8-7ac1-4e55-b3f9-18f0aeb7df43",
   "metadata": {},
   "outputs": [],
   "source": [
    "with open(out_file, 'rb') as f_in:\n",
    "    dv, model=pickle.load(f_in)"
   ]
  },
  {
   "cell_type": "code",
   "execution_count": 8,
   "id": "1ec12901-980a-48db-9b7f-655c621a7cb9",
   "metadata": {},
   "outputs": [
    {
     "data": {
      "text/plain": [
       "(DictVectorizer(sparse=False), LogisticRegression(C=10, max_iter=5000))"
      ]
     },
     "execution_count": 8,
     "metadata": {},
     "output_type": "execute_result"
    }
   ],
   "source": [
    "dv, model"
   ]
  },
  {
   "cell_type": "code",
   "execution_count": null,
   "id": "cd3a9cb8-da77-48e0-b632-7a4185b7afbf",
   "metadata": {},
   "outputs": [],
   "source": []
  }
 ],
 "metadata": {
  "kernelspec": {
   "display_name": "Python 3 (ipykernel)",
   "language": "python",
   "name": "python3"
  },
  "language_info": {
   "codemirror_mode": {
    "name": "ipython",
    "version": 3
   },
   "file_extension": ".py",
   "mimetype": "text/x-python",
   "name": "python",
   "nbconvert_exporter": "python",
   "pygments_lexer": "ipython3",
   "version": "3.12.1"
  }
 },
 "nbformat": 4,
 "nbformat_minor": 5
}
